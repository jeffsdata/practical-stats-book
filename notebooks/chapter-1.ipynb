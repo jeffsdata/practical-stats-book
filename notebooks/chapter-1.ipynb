{
 "cells": [
  {
   "cell_type": "code",
   "execution_count": 68,
   "metadata": {},
   "outputs": [],
   "source": [
    "from scipy import stats\n",
    "import pandas as pd\n",
    "import os\n",
    "import numpy as np\n",
    "import wquantiles\n",
    "from statsmodels import robust\n",
    "import glob\n",
    "import seaborn as sns"
   ]
  },
  {
   "cell_type": "code",
   "execution_count": 4,
   "metadata": {},
   "outputs": [
    {
     "name": "stdout",
     "output_type": "stream",
     "text": [
      "Current WD: c:\\Users\\jeffc\\source\\repos\\practical-stats-book\\notebooks\n",
      "Analysis WD: c:\\Users\\jeffc\\source\\repos\\practical-stats-book\n"
     ]
    }
   ],
   "source": [
    "# Use root for analysis, instead of notebooks folder. \n",
    "# WARNING: Only run this once!\n",
    "print(\"Current WD:\", os.getcwd())\n",
    "path_parent = os.path.dirname(os.getcwd())\n",
    "os.chdir(path_parent)\n",
    "print(\"Analysis WD:\", os.getcwd())"
   ]
  },
  {
   "cell_type": "markdown",
   "metadata": {},
   "source": [
    "# Chapter 1: Exploratory Data Analysis\n",
    "The first step of any data science project: exploring the data.\n",
    "\n",
    "## Data Types\n",
    "Numeric: \n",
    "- Continuous: can take any value in an interval (float)\n",
    "- Discrete: integers\n",
    "\n",
    "Categorical\n",
    "- Binary: two values (T/F, 1/0)\n",
    "- Ordinal: has ordering\n",
    "\n",
    "\n",
    "## Rectangular Data\n",
    "- Data Frame: ie - a spreadsheet\n",
    "- Feature: a column\n",
    "- Outcome: ie - dependent variable, response, target, output\n",
    "- Records: row within a table\n",
    "\n",
    "## Non-Rectangular Data\n",
    "- Graphs (connected data)\n",
    "- JSON (nested data)\n",
    "- Time Series\n",
    "- Spatial data (maps)\n",
    "\n",
    "## Estimates of location\n",
    "- Mean\n",
    "- Weighted Mean\n",
    "- Median\n",
    "- Percentile\n",
    "- Weighted Median\n",
    "- Trimmed Mean\n",
    "- Robust\n",
    "- Outlier"
   ]
  },
  {
   "cell_type": "code",
   "execution_count": 34,
   "metadata": {},
   "outputs": [
    {
     "name": "stdout",
     "output_type": "stream",
     "text": [
      "Mean:, 3.71037037037037\n",
      "Trimmed Mean (10%): 3.8704166666666664\n",
      "Median: 3.9\n"
     ]
    }
   ],
   "source": [
    "# Trimmed Mean\n",
    "df = pd.concat(map(pd.read_csv, glob.glob('data/raw/jobspostings-*.csv')))\n",
    "print(\"Mean:,\",df[\"companyrating\"].mean())\n",
    "\n",
    "print(\"Trimmed Mean (10%):\", stats.trim_mean(df[\"companyrating\"], 0.1))\n",
    "\n",
    "print(\"Median:\", df[\"companyrating\"].median())\n"
   ]
  },
  {
   "cell_type": "code",
   "execution_count": 16,
   "metadata": {},
   "outputs": [
    {
     "name": "stdout",
     "output_type": "stream",
     "text": [
      "Weighted Average (by # ratings): 3.9166476903057905\n",
      "Weighted Median (by # ratings): 3.9\n"
     ]
    },
    {
     "name": "stderr",
     "output_type": "stream",
     "text": [
      "C:\\Users\\jeffc\\AppData\\Local\\Temp\\ipykernel_15732\\2071697720.py:1: SettingWithCopyWarning: \n",
      "A value is trying to be set on a copy of a slice from a DataFrame.\n",
      "Try using .loc[row_indexer,col_indexer] = value instead\n",
      "\n",
      "See the caveats in the documentation: https://pandas.pydata.org/pandas-docs/stable/user_guide/indexing.html#returning-a-view-versus-a-copy\n",
      "  df[\"companyratings\"] = df.apply(lambda x: float(str(x[\"companyratings\"]).replace(\" Ratings\", \"\").replace(\" Rating\", \"\")), axis=1)\n"
     ]
    }
   ],
   "source": [
    "# Weighted Mean & Median\n",
    "df[\"companyratings\"] = df.apply(lambda x: float(str(x[\"companyratings\"]).replace(\" Ratings\", \"\").replace(\" Rating\", \"\")), axis=1)\n",
    "df = df[df[\"companyratings\"].notnull()]\n",
    "print(\"Weighted Average (by # ratings):\", np.average(df[\"companyrating\"], weights=df[\"companyratings\"]))\n",
    "print(\"Weighted Median (by # ratings):\", wquantiles.median(df[\"companyrating\"], weights=df[\"companyratings\"]))"
   ]
  },
  {
   "cell_type": "markdown",
   "metadata": {},
   "source": [
    "## Estimates of Variability\n",
    "- Deviations (differences between actual values and estimated values - aka \"errors\", \"residuals\")\n",
    "- Variance (sum of squared deviations divided by n-1 - aka \"mean squared error\")\n",
    "- Standard Deviation (square root of variance)\n",
    "- Mean Absolute Deviation (mean of the absolute values from the deviations from the mean - aka \"l1-norm\", \"manhattan norm\")\n",
    "- Median absolute deviation (the median of the absolute values from the deviations from the median)\n",
    "- Range (difference from min to max)\n",
    "- Order Statistics (metrics based on sorting values - ie: ranks)\n",
    "- Percentile (The value such that P percent of the values take on this value or less and 100-P percent take on this value or more - aka \"quantile\")\n",
    "- Interquartile Range (difference from 75th percentile to 25th percentile - aka \"IQR\")"
   ]
  },
  {
   "cell_type": "code",
   "execution_count": 27,
   "metadata": {},
   "outputs": [
    {
     "name": "stdout",
     "output_type": "stream",
     "text": [
      "Variance: 0.3990883190883191\n",
      "Standard Deviation: 0.6317343738378648\n",
      "Percentile (80th): 4.1\n",
      "Percentile (70th): 4.0\n",
      "Percentile (60th): 3.9\n",
      "Percentile (50th): 3.9\n",
      "Percentile (40th): 3.62\n",
      "Percentile (30th): 3.38\n",
      "Percentile (20th): 3.22\n",
      "IQR:  0.75\n",
      "MAD: 0.5930408874022406\n"
     ]
    }
   ],
   "source": [
    "# Standard Deviation\n",
    "print(\"Variance:\", df[\"companyrating\"].var())\n",
    "print(\"Standard Deviation:\", df[\"companyrating\"].std())\n",
    "\n",
    "# Percentiles\n",
    "print(\"Percentile (80th):\", df[\"companyrating\"].quantile(0.80))\n",
    "print(\"Percentile (70th):\", df[\"companyrating\"].quantile(0.70))\n",
    "print(\"Percentile (60th):\", df[\"companyrating\"].quantile(0.60))\n",
    "print(\"Percentile (50th):\", df[\"companyrating\"].quantile(0.50))\n",
    "print(\"Percentile (40th):\", df[\"companyrating\"].quantile(0.40))\n",
    "print(\"Percentile (30th):\" , df[\"companyrating\"].quantile(0.30))\n",
    "print(\"Percentile (20th):\", df[\"companyrating\"].quantile(0.20))\n",
    "\n",
    "# Interquartile Range\n",
    "print(\"IQR: \", df[\"companyrating\"].quantile(0.75) - df[\"companyrating\"].quantile(0.25))\n",
    "\n",
    "# median absolute deviation from the median (MAD)\n",
    "print(\"MAD:\", robust.scale.mad(df[\"companyrating\"]))"
   ]
  },
  {
   "cell_type": "markdown",
   "metadata": {},
   "source": [
    "## Exploring the Data Distribution\n",
    "- Boxplot (aka \"box and whiskers plot\")\n",
    "- Frequency Table (count of values that fall within bins)\n",
    "- Histogram (plot of frequency table, with bins on x-axis and the count on the y-axis)\n",
    "- Density Plot (smoothed histogram)"
   ]
  },
  {
   "cell_type": "code",
   "execution_count": 42,
   "metadata": {},
   "outputs": [
    {
     "name": "stdout",
     "output_type": "stream",
     "text": [
      "Quantiles...\n",
      "0.05    2.4\n",
      "0.25    3.3\n",
      "0.50    3.9\n",
      "0.75    4.1\n",
      "0.95    4.6\n",
      "Name: companyrating, dtype: float64\n",
      "                               companyname  companyrating companyratings\n",
      "3   New York City Department of Correction            2.3      7 Ratings\n",
      "4           Helene Fuld College of Nursing            2.4      0 Ratings\n",
      "5                    Care for the Homeless            2.4     10 Ratings\n",
      "15                                  MIRROR            2.0      0 Ratings\n"
     ]
    },
    {
     "data": {
      "image/png": "[encoded data removed]",
      "text/plain": [
       "<Figure size 432x288 with 1 Axes>"
      ]
     },
     "metadata": {
      "needs_background": "light"
     },
     "output_type": "display_data"
    }
   ],
   "source": [
    "print(\"Quantiles...\")\n",
    "print(df[\"companyrating\"].quantile([0.05, 0.25, 0.5, 0.75, 0.95]))\n",
    "crs = df[[\"companyname\", \"companyrating\", \"companyratings\"]].drop_duplicates().dropna()\n",
    "\n",
    "# Box Plot\n",
    "ax = (crs[\"companyrating\"]).plot.box()\n",
    "ax.set_ylabel(\"Company Rating (1 to 5)\")\n",
    "\n",
    "print(crs[crs[\"companyrating\"] <= 2.4])\n",
    "\n"
   ]
  },
  {
   "cell_type": "code",
   "execution_count": 45,
   "metadata": {},
   "outputs": [
    {
     "data": {
      "text/plain": [
       "(3.8, 4.1]      28\n",
       "(3.5, 3.8]      18\n",
       "(4.1, 4.4]      17\n",
       "(3.2, 3.5]      16\n",
       "(2.9, 3.2]       8\n",
       "(4.4, 4.7]       6\n",
       "(2.6, 2.9]       3\n",
       "(4.7, 5.0]       3\n",
       "(1.997, 2.3]     2\n",
       "(2.3, 2.6]       2\n",
       "Name: companyrating, dtype: int64"
      ]
     },
     "execution_count": 45,
     "metadata": {},
     "output_type": "execute_result"
    }
   ],
   "source": [
    "# Frequency Table\n",
    "binned = pd.cut(crs[\"companyrating\"], 10)\n",
    "binned.value_counts()"
   ]
  },
  {
   "cell_type": "code",
   "execution_count": 47,
   "metadata": {},
   "outputs": [
    {
     "data": {
      "text/plain": [
       "Text(0.5, 0, 'Company Rating')"
      ]
     },
     "execution_count": 47,
     "metadata": {},
     "output_type": "execute_result"
    },
    {
     "data": {
      "image/png": "[encoded data removed]",
      "text/plain": [
       "<Figure size 720x288 with 1 Axes>"
      ]
     },
     "metadata": {
      "needs_background": "light"
     },
     "output_type": "display_data"
    }
   ],
   "source": [
    "# Histogram\n",
    "ax2 = crs[\"companyrating\"].plot.hist(figsize=(10,4))\n",
    "ax2.set_xlabel(\"Company Rating\")"
   ]
  },
  {
   "cell_type": "code",
   "execution_count": 53,
   "metadata": {},
   "outputs": [
    {
     "data": {
      "text/plain": [
       "Text(0.5, 3.1999999999999993, 'Company Rating')"
      ]
     },
     "execution_count": 53,
     "metadata": {},
     "output_type": "execute_result"
    },
    {
     "data": {
      "image/png": "[encoded data removed]",
      "text/plain": [
       "<Figure size 432x288 with 1 Axes>"
      ]
     },
     "metadata": {
      "needs_background": "light"
     },
     "output_type": "display_data"
    }
   ],
   "source": [
    "# Density Plot\n",
    "ax3 = crs[\"companyrating\"].plot.hist(density=True, xlim=[0,5], bins=range(1,12))\n",
    "crs[\"companyrating\"].plot.density(ax=ax3)\n",
    "ax.set_xlabel(\"Company Rating\")"
   ]
  },
  {
   "cell_type": "code",
   "execution_count": null,
   "metadata": {},
   "outputs": [],
   "source": []
  },
  {
   "cell_type": "markdown",
   "metadata": {},
   "source": [
    "# Exploring Binary and Categorical Data\n",
    "- Mode (most commonly occurring category)\n",
    "- Expected Value\n",
    "- Bar Charts\n",
    "- Pie Charts"
   ]
  },
  {
   "cell_type": "code",
   "execution_count": 59,
   "metadata": {},
   "outputs": [
    {
     "data": {
      "text/html": [
       "<div>\n",
       "<style scoped>\n",
       "    .dataframe tbody tr th:only-of-type {\n",
       "        vertical-align: middle;\n",
       "    }\n",
       "\n",
       "    .dataframe tbody tr th {\n",
       "        vertical-align: top;\n",
       "    }\n",
       "\n",
       "    .dataframe thead th {\n",
       "        text-align: right;\n",
       "    }\n",
       "</style>\n",
       "<table border=\"1\" class=\"dataframe\">\n",
       "  <thead>\n",
       "    <tr style=\"text-align: right;\">\n",
       "      <th></th>\n",
       "      <th>companysize</th>\n",
       "      <th>companyname</th>\n",
       "    </tr>\n",
       "  </thead>\n",
       "  <tbody>\n",
       "    <tr>\n",
       "      <th>0</th>\n",
       "      <td>1 to 50 Employees</td>\n",
       "      <td>16</td>\n",
       "    </tr>\n",
       "    <tr>\n",
       "      <th>1</th>\n",
       "      <td>10000+ Employees</td>\n",
       "      <td>26</td>\n",
       "    </tr>\n",
       "    <tr>\n",
       "      <th>2</th>\n",
       "      <td>1001 to 5000 Employees</td>\n",
       "      <td>19</td>\n",
       "    </tr>\n",
       "    <tr>\n",
       "      <th>3</th>\n",
       "      <td>201 to 500 Employees</td>\n",
       "      <td>9</td>\n",
       "    </tr>\n",
       "    <tr>\n",
       "      <th>4</th>\n",
       "      <td>5001 to 10000 Employees</td>\n",
       "      <td>9</td>\n",
       "    </tr>\n",
       "    <tr>\n",
       "      <th>5</th>\n",
       "      <td>501 to 1000 Employees</td>\n",
       "      <td>10</td>\n",
       "    </tr>\n",
       "    <tr>\n",
       "      <th>6</th>\n",
       "      <td>51 to 200 Employees</td>\n",
       "      <td>14</td>\n",
       "    </tr>\n",
       "    <tr>\n",
       "      <th>7</th>\n",
       "      <td>Unknown</td>\n",
       "      <td>6</td>\n",
       "    </tr>\n",
       "  </tbody>\n",
       "</table>\n",
       "</div>"
      ],
      "text/plain": [
       "               companysize  companyname\n",
       "0        1 to 50 Employees           16\n",
       "1         10000+ Employees           26\n",
       "2   1001 to 5000 Employees           19\n",
       "3     201 to 500 Employees            9\n",
       "4  5001 to 10000 Employees            9\n",
       "5    501 to 1000 Employees           10\n",
       "6      51 to 200 Employees           14\n",
       "7                  Unknown            6"
      ]
     },
     "execution_count": 59,
     "metadata": {},
     "output_type": "execute_result"
    }
   ],
   "source": [
    "sizes = df[[\"companyname\", \"companysize\"]].drop_duplicates().dropna()\n",
    "sizes = sizes.groupby([\"companysize\"]).count()\n",
    "sizes.reset_index(level=[0], inplace=True)\n",
    "sizes"
   ]
  },
  {
   "cell_type": "code",
   "execution_count": 64,
   "metadata": {},
   "outputs": [
    {
     "data": {
      "text/plain": [
       "Text(0, 0.5, 'Count')"
      ]
     },
     "execution_count": 64,
     "metadata": {},
     "output_type": "execute_result"
    },
    {
     "data": {
      "image/png": "[encoded data removed]",
      "text/plain": [
       "<Figure size 720x288 with 1 Axes>"
      ]
     },
     "metadata": {
      "needs_background": "light"
     },
     "output_type": "display_data"
    }
   ],
   "source": [
    "axisorder = ['1 to 50 Employees', '51 to 200 Employees', '201 to 500 Employees', \n",
    "    '501 to 1000 Employees', '1001 to 5000 Employees', '5001 to 10000 Employees', \n",
    "    '10000+ Employees', 'Unknown']\n",
    "ax4 = sizes.set_index(\"companysize\").loc[axisorder].plot.bar(figsize=(10,4), legend=False)\n",
    "ax4.set_xlabel(\"Company Size\")\n",
    "ax4.set_ylabel(\"Count\")"
   ]
  },
  {
   "cell_type": "markdown",
   "metadata": {},
   "source": [
    "# Correlation\n",
    "EDA often contains modeling data in some way, so you should find out how your predictors correlate with your target.\n",
    "- Correlation Coefficient (A metrics that measures the extent to which numeric variables are associated with one another - ie: from -1 (perfectly uncorrelated) to 1 (perfectly correlated))\n",
    "- Correlation Matrix (A table of all variables in both row and columns, with the correlation value in each cell)\n",
    "- Scatterpot (x and y axis have two separate variables)"
   ]
  },
  {
   "cell_type": "code",
   "execution_count": 70,
   "metadata": {},
   "outputs": [
    {
     "data": {
      "text/html": [
       "<div>\n",
       "<style scoped>\n",
       "    .dataframe tbody tr th:only-of-type {\n",
       "        vertical-align: middle;\n",
       "    }\n",
       "\n",
       "    .dataframe tbody tr th {\n",
       "        vertical-align: top;\n",
       "    }\n",
       "\n",
       "    .dataframe thead th {\n",
       "        text-align: right;\n",
       "    }\n",
       "</style>\n",
       "<table border=\"1\" class=\"dataframe\">\n",
       "  <thead>\n",
       "    <tr style=\"text-align: right;\">\n",
       "      <th></th>\n",
       "      <th>companyrating</th>\n",
       "      <th>wageavg</th>\n",
       "    </tr>\n",
       "  </thead>\n",
       "  <tbody>\n",
       "    <tr>\n",
       "      <th>1</th>\n",
       "      <td>3.5</td>\n",
       "      <td>60237.0</td>\n",
       "    </tr>\n",
       "    <tr>\n",
       "      <th>4</th>\n",
       "      <td>2.4</td>\n",
       "      <td>64959.0</td>\n",
       "    </tr>\n",
       "    <tr>\n",
       "      <th>5</th>\n",
       "      <td>2.4</td>\n",
       "      <td>62225.0</td>\n",
       "    </tr>\n",
       "    <tr>\n",
       "      <th>9</th>\n",
       "      <td>3.2</td>\n",
       "      <td>79177.0</td>\n",
       "    </tr>\n",
       "    <tr>\n",
       "      <th>10</th>\n",
       "      <td>3.8</td>\n",
       "      <td>70428.0</td>\n",
       "    </tr>\n",
       "    <tr>\n",
       "      <th>...</th>\n",
       "      <td>...</td>\n",
       "      <td>...</td>\n",
       "    </tr>\n",
       "    <tr>\n",
       "      <th>21</th>\n",
       "      <td>4.3</td>\n",
       "      <td>71631.0</td>\n",
       "    </tr>\n",
       "    <tr>\n",
       "      <th>26</th>\n",
       "      <td>3.3</td>\n",
       "      <td>65598.0</td>\n",
       "    </tr>\n",
       "    <tr>\n",
       "      <th>27</th>\n",
       "      <td>3.3</td>\n",
       "      <td>80932.0</td>\n",
       "    </tr>\n",
       "    <tr>\n",
       "      <th>28</th>\n",
       "      <td>4.5</td>\n",
       "      <td>131543.0</td>\n",
       "    </tr>\n",
       "    <tr>\n",
       "      <th>29</th>\n",
       "      <td>4.3</td>\n",
       "      <td>68298.0</td>\n",
       "    </tr>\n",
       "  </tbody>\n",
       "</table>\n",
       "<p>82 rows × 2 columns</p>\n",
       "</div>"
      ],
      "text/plain": [
       "    companyrating   wageavg\n",
       "1             3.5   60237.0\n",
       "4             2.4   64959.0\n",
       "5             2.4   62225.0\n",
       "9             3.2   79177.0\n",
       "10            3.8   70428.0\n",
       "..            ...       ...\n",
       "21            4.3   71631.0\n",
       "26            3.3   65598.0\n",
       "27            3.3   80932.0\n",
       "28            4.5  131543.0\n",
       "29            4.3   68298.0\n",
       "\n",
       "[82 rows x 2 columns]"
      ]
     },
     "execution_count": 70,
     "metadata": {},
     "output_type": "execute_result"
    }
   ],
   "source": [
    "def tryConvertFloat(st):\n",
    "    try:\n",
    "        return float(st)\n",
    "    except:\n",
    "        return np.nan\n",
    "\n",
    "corr = df[[\"companyrating\", \"wageavg\"]].drop_duplicates()\n",
    "corr[\"wageavg\"] = corr.apply(lambda x: tryConvertFloat(str(x[\"wageavg\"]).replace(\" /yr (est.)\", \"\").replace(\"$\", \"\").replace(\",\",\"\")), axis=1)\n",
    "corr = corr.dropna()\n",
    "corr"
   ]
  },
  {
   "cell_type": "code",
   "execution_count": 69,
   "metadata": {},
   "outputs": [
    {
     "data": {
      "text/plain": [
       "<AxesSubplot:>"
      ]
     },
     "execution_count": 69,
     "metadata": {},
     "output_type": "execute_result"
    },
    {
     "data": {
      "image/png": "[encoded data removed]",
      "text/plain": [
       "<Figure size 432x288 with 2 Axes>"
      ]
     },
     "metadata": {
      "needs_background": "light"
     },
     "output_type": "display_data"
    }
   ],
   "source": [
    "sns.heatmap(corr.corr(), vmin=-1, vmax=1)"
   ]
  },
  {
   "cell_type": "code",
   "execution_count": 76,
   "metadata": {},
   "outputs": [
    {
     "data": {
      "text/plain": [
       "<matplotlib.lines.Line2D at 0x177f5a26d90>"
      ]
     },
     "execution_count": 76,
     "metadata": {},
     "output_type": "execute_result"
    },
    {
     "data": {
      "image/png": "[encoded data removed]",
      "text/plain": [
       "<Figure size 720x288 with 1 Axes>"
      ]
     },
     "metadata": {
      "needs_background": "light"
     },
     "output_type": "display_data"
    }
   ],
   "source": [
    "ax5 = corr.plot.scatter(x=\"companyrating\", y=\"wageavg\", figsize=(10,4), color=\"#3a3a3c\")\n",
    "ax5.set_xlabel(\"Company Rating\")\n",
    "ax5.set_ylabel(\"Average Wage\")\n",
    "ax5.axhline(corr[\"wageavg\"].mean(), color=\"#0099d8\", lw=1)\n",
    "ax5.axvline(corr[\"companyrating\"].mean(), color=\"#0099d8\", lw=1)"
   ]
  },
  {
   "cell_type": "code",
   "execution_count": null,
   "metadata": {},
   "outputs": [],
   "source": []
  }
 ],
 "metadata": {
  "interpreter": {
   "hash": "4692b00f9a7cb883c9340dfd97aaab4eea96500792fdd6b9de25be520ca0ba09"
  },
  "kernelspec": {
   "display_name": "Python 3.9.7 64-bit ('DataSciJobs2': venv)",
   "language": "python",
   "name": "python3"
  },
  "language_info": {
   "codemirror_mode": {
    "name": "ipython",
    "version": 3
   },
   "file_extension": ".py",
   "mimetype": "text/x-python",
   "name": "python",
   "nbconvert_exporter": "python",
   "pygments_lexer": "ipython3",
   "version": "3.9.7"
  },
  "orig_nbformat": 4
 },
 "nbformat": 4,
 "nbformat_minor": 2
}
